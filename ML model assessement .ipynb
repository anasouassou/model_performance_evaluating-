{
 "cells": [
  {
   "cell_type": "markdown",
   "id": "184a9992",
   "metadata": {},
   "source": [
    "# Evaluer la performance d'un modèle de ML"
   ]
  },
  {
   "cell_type": "code",
   "execution_count": null,
   "id": "87d6cdca",
   "metadata": {},
   "outputs": [],
   "source": [
    "import pandas as pd\n",
    "import numpy as np\n",
    "import seaborn as sns\n",
    "import matplotlib.pyplot as plt\n",
    "from sklearn.neighbors import KNeighborsClassifier\n",
    "from sklearn.model_selection import GridSearchCV"
   ]
  },
  {
   "cell_type": "code",
   "execution_count": null,
   "id": "e1ee9c7f",
   "metadata": {},
   "outputs": [],
   "source": [
    "from sklearn.model_selection import train_test_split \n",
    "from sklearn.metrics import accuracy_score,confusion_matrix, classification_report\n",
    "from sklearn.metrics import auc,roc_curve\n",
    "import warnings\n",
    "warnings.filterwarnings('ignore')## pour ne pas afficher les warnings"
   ]
  },
  {
   "cell_type": "code",
   "execution_count": null,
   "id": "a3ec0de0",
   "metadata": {},
   "outputs": [],
   "source": [
    "data=pd.read_spss(\"scoring.sav\")# il faut isntaller le package 'pyreadstat' avant /pip install pyreadstat\n",
    "data.head()"
   ]
  },
  {
   "cell_type": "code",
   "execution_count": null,
   "id": "1a233637",
   "metadata": {},
   "outputs": [],
   "source": [
    "#Afficher les diemsions de la BDD\n",
    "data.shape\n",
    "#Afficher la liste des variables\n",
    "print(data.columns) #Afficher les types de variables\n",
    "print(data.dtypes)"
   ]
  },
  {
   "cell_type": "code",
   "execution_count": null,
   "id": "cfe8f57e",
   "metadata": {},
   "outputs": [],
   "source": [
    "data.describe() # data.describe(include=all)"
   ]
  },
  {
   "cell_type": "code",
   "execution_count": null,
   "id": "bd5aa747",
   "metadata": {},
   "outputs": [],
   "source": [
    "data[\"Statut1\"].value_counts() # BDD désiquilibré"
   ]
  },
  {
   "cell_type": "code",
   "execution_count": null,
   "id": "04f087cc",
   "metadata": {},
   "outputs": [],
   "source": [
    "# Recodage des variables:\n",
    "data1=data.copy()\n",
    "replace={\"Statut1\":{'Yes':1,'No':0}}\n",
    "data1=data1.replace(replace)\n",
    "data1.head()"
   ]
  },
  {
   "cell_type": "code",
   "execution_count": null,
   "id": "b2c5b67b",
   "metadata": {},
   "outputs": [],
   "source": [
    "#Identifier les données manquantes\n",
    "print(data1.isnull().sum())\n",
    "# Représenter les données manquantes\n",
    "sns.heatmap(data1.isnull())"
   ]
  },
  {
   "cell_type": "code",
   "execution_count": null,
   "id": "74bffd1f",
   "metadata": {},
   "outputs": [],
   "source": [
    "# Matrice de corrélation:\n",
    "sns.heatmap(data1.corr(),annot=True)"
   ]
  },
  {
   "cell_type": "code",
   "execution_count": null,
   "id": "bb43b8d5",
   "metadata": {},
   "outputs": [],
   "source": [
    "# Séparer les variables en explicatives et à expliquer:\n",
    "y=data1[\"Statut1\"]\n",
    "x=data1.drop(\"Statut1\",axis=1)"
   ]
  },
  {
   "cell_type": "code",
   "execution_count": null,
   "id": "bdaeda4c",
   "metadata": {},
   "outputs": [],
   "source": [
    "#séparer la base de données en apprentissage et test\n",
    "seed=101\n",
    "test_size=0.2\n",
    "x_train,x_test,y_train,y_test=train_test_split(x,y,test_size=test_size,\n",
    "                                               random_state=seed)"
   ]
  },
  {
   "cell_type": "code",
   "execution_count": null,
   "id": "d15d6ab5",
   "metadata": {},
   "outputs": [],
   "source": [
    "#Entrainer le modèle avec les hyperparamètres par défaut\n",
    "model=KNeighborsClassifier()\n",
    "model.fit(x_train,y_train)"
   ]
  },
  {
   "cell_type": "markdown",
   "id": "d1b99598",
   "metadata": {},
   "source": [
    "* Evaluaer la performance du modèle avec la base d'entrainement et la base test"
   ]
  },
  {
   "cell_type": "code",
   "execution_count": null,
   "id": "359f137e",
   "metadata": {},
   "outputs": [],
   "source": [
    "## accuracy avec la BDD d'entrainement\n",
    "pred_train=model.predict(x_train)\n",
    "accuracy_score(y_train,pred_train)"
   ]
  },
  {
   "cell_type": "code",
   "execution_count": null,
   "id": "79ca0bae",
   "metadata": {},
   "outputs": [],
   "source": [
    "## Accuracy avec la base de données test\n",
    "pred_test=model.predict(x_test)\n",
    "accuracy_score(y_test,pred_test)"
   ]
  },
  {
   "cell_type": "code",
   "execution_count": null,
   "id": "0d3d9606",
   "metadata": {},
   "outputs": [],
   "source": [
    "#Matrice de confusion\n",
    "mat=confusion_matrix(pred_test,y_test)\n",
    "plt.figure()\n",
    "sns.heatmap(mat,annot=True,square=True)\n",
    "plt.xlabel(\"predicted label\")\n",
    "plt.ylabel(\"Actual label\")"
   ]
  },
  {
   "cell_type": "code",
   "execution_count": null,
   "id": "29dea079",
   "metadata": {},
   "outputs": [],
   "source": [
    "## Afficher la précision, l'accuracy et le F1 score\n",
    "print(classification_report(pred_test,y_test))"
   ]
  },
  {
   "cell_type": "code",
   "execution_count": null,
   "id": "fc5a1873",
   "metadata": {},
   "outputs": [],
   "source": [
    "# valeur de l'AUC\n",
    "roc_auc_score(y_train,probabilities)"
   ]
  },
  {
   "cell_type": "code",
   "execution_count": null,
   "id": "4eb840fd",
   "metadata": {},
   "outputs": [],
   "source": [
    "# Courbe Roc\n",
    "plt.figure(figsize=(4,3))\n",
    "probabilities = model.predict_proba(x_train)\n",
    "probabilities = probabilities[:, 1]  # keep probabilities for first class only\n",
    "# Compute the ROC curve\n",
    "fpr, tpr, thresholds = roc_curve(y_train, probabilities)    \n",
    "    \n",
    "# Plot the \"dumb model\" line\n",
    "plt.plot([0, 1], [0, 1], linestyle='--')\n",
    "    \n",
    "# Plot the model line\n",
    "plt.plot(fpr, tpr, marker='.')\n",
    "\n",
    "plt.text(0.75, 0.25, \"AUC: \" + str(round(roc_auc_score(y_train, probabilities),2)))\n",
    "\n",
    "plt.show()"
   ]
  },
  {
   "cell_type": "markdown",
   "id": "9fd93258",
   "metadata": {},
   "source": [
    "#### Evaluer un modèle avec les hyper-paramètres par défaut par CV"
   ]
  },
  {
   "cell_type": "code",
   "execution_count": null,
   "id": "f8512d8c",
   "metadata": {},
   "outputs": [],
   "source": [
    "# K-Fold cross validation\n",
    "from sklearn.model_selection import KFold,cross_val_score\n",
    "x.head()\n",
    "# Create 5 folds\n",
    "seed = 123\n",
    "kfold = KFold(n_splits=5, shuffle=True, random_state=seed)\n",
    "\n",
    "# Create a model with default paramters \n",
    "model_KN = KNeighborsClassifier()\n",
    "\n",
    "# Train and evaluate multiple models using kfolds\n",
    "results = cross_val_score(model_KN, x, y, cv=kfold, scoring='accuracy')\n",
    "print(results)\n",
    "mean_accuracy=results.mean()\n",
    "std_accuracy=results.std()\n",
    "\n",
    "print(f\"Mean Accuracy: {mean_accuracy:.2f}\")\n",
    "print(f\"Standard Deviation of Accuracy: {std_accuracy:.2f}\")\n"
   ]
  },
  {
   "cell_type": "code",
   "execution_count": null,
   "id": "fa0148f1",
   "metadata": {},
   "outputs": [],
   "source": [
    "# Stratified KFold cross validation\n",
    "\n",
    "from sklearn.model_selection import StratifiedKFold\n",
    "\n",
    "# Créer 5 parties(fold)\n",
    "seed = 7\n",
    "skf = StratifiedKFold(n_splits=5)\n",
    "# Créer un modèle \n",
    "model_KN = KNeighborsClassifier()\n",
    "# Entrainer et évaluer  plusieurs  modèles à l'aide Stratified KFold\n",
    "results = cross_val_score(model_KN,x, y, cv=skf, scoring='accuracy')\n",
    "print(\"mean:\",results.mean())\n",
    "print(\"std:\",results.std())"
   ]
  },
  {
   "cell_type": "markdown",
   "id": "b6a34ffb",
   "metadata": {},
   "source": [
    "#####   Optimisation des hyperparamètres et évaluation du modèle par CV "
   ]
  },
  {
   "cell_type": "code",
   "execution_count": null,
   "id": "c566ca05",
   "metadata": {},
   "outputs": [],
   "source": [
    "model1=KNeighborsClassifier()\n",
    "# définir la liste des valeurs pour les hyper-paramètres \n",
    "liste = [{'n_neighbors': range(1,50), 'metric':['minkowski','euclidean']}]\n",
    "# Créer des combinaisons des hyper-paramètres\n",
    "grid_knn=GridSearchCV(model1,liste,cv=5,scoring='accuracy')\n",
    "#entrainer des modèles pour toutes les combinaisons des valeurs\n",
    "grid_knn.fit(x_train,y_train)"
   ]
  },
  {
   "cell_type": "code",
   "execution_count": null,
   "id": "1b751589",
   "metadata": {},
   "outputs": [],
   "source": [
    "# récupérer les hyper-paramètres optimaux\n",
    "best_params=grid_knn.best_params_\n",
    "# récupérer le modèle avec les hyper-paramètres optimaux\n",
    "best_model=grid_knn.best_estimator_"
   ]
  },
  {
   "cell_type": "code",
   "execution_count": null,
   "id": "af8896dd",
   "metadata": {},
   "outputs": [],
   "source": [
    "print(best_params)\n",
    "print(grid_knn.best_score_)"
   ]
  },
  {
   "cell_type": "code",
   "execution_count": null,
   "id": "b756370f",
   "metadata": {},
   "outputs": [],
   "source": [
    "## Test le modèle séléctionné \n",
    "pred=best_model.predict(x_test) # ou grid_knn.predict(x_test) \n",
    "accuracy_score(pred,y_test)"
   ]
  },
  {
   "cell_type": "code",
   "execution_count": null,
   "id": "6fc450bd",
   "metadata": {},
   "outputs": [],
   "source": [
    "print(classification_report(pred,y_test))"
   ]
  },
  {
   "cell_type": "code",
   "execution_count": null,
   "id": "ebf76c04",
   "metadata": {},
   "outputs": [],
   "source": [
    "plt.figure()\n",
    "sns.heatmap(confusion_matrix(y_test,pred),annot=True,square=True)\n",
    "plt.ylabel(\"Actual label\")\n",
    "plt.xlabel(\"predicted label\")"
   ]
  },
  {
   "cell_type": "code",
   "execution_count": null,
   "id": "4c2924f7",
   "metadata": {},
   "outputs": [],
   "source": [
    "plt.figure()\n",
    "mat=confusion_matrix(y_test,pred)\n",
    "cm_display = metrics.ConfusionMatrixDisplay(confusion_matrix = mat, display_labels = [False, True])\n",
    "cm_display.plot()"
   ]
  },
  {
   "cell_type": "code",
   "execution_count": null,
   "id": "b3641317",
   "metadata": {},
   "outputs": [],
   "source": [
    "# Nested CV\n",
    "from sklearn.model_selection import GridSearchCV, KFold\n",
    "# Define your model\n",
    "model = KNeighborsClassifier()\n",
    "# Define the parameter grid for hyperparameter tuning\n",
    "liste = [{'n_neighbors': range(1,50), 'metric':['minkowski','euclidean']}]\n",
    "# Create an outer cross-validation iterator\n",
    "outer_cv = KFold(n_splits=5, shuffle=True, random_state=42)\n",
    "# Create an inner cross-validation iterator\n",
    "inner_cv = KFold(n_splits=3, shuffle=True, random_state=42)\n",
    "# Create the GridSearchCV object for hyperparameter tuning\n",
    "grid_search = GridSearchCV(estimator=model, param_grid=liste, cv=inner_cv, scoring='accuracy')\n",
    "# Perform nested cross-validation\n",
    "nested_scores = cross_val_score(grid_search, x, y, cv=outer_cv)\n",
    "# Print the performance scores\n",
    "print(\"Nested CV Mean Score:\", nested_scores.mean())"
   ]
  }
 ],
 "metadata": {
  "kernelspec": {
   "display_name": "Python 3 (ipykernel)",
   "language": "python",
   "name": "python3"
  },
  "language_info": {
   "codemirror_mode": {
    "name": "ipython",
    "version": 3
   },
   "file_extension": ".py",
   "mimetype": "text/x-python",
   "name": "python",
   "nbconvert_exporter": "python",
   "pygments_lexer": "ipython3",
   "version": "3.11.5"
  }
 },
 "nbformat": 4,
 "nbformat_minor": 5
}
